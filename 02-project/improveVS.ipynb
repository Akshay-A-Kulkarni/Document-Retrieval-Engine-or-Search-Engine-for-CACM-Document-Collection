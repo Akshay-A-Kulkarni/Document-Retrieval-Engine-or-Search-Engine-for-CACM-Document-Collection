{
 "cells": [
  {
   "cell_type": "code",
   "execution_count": 13,
   "metadata": {},
   "outputs": [
    {
     "name": "stdout",
     "output_type": "stream",
     "text": [
      "Time elapsed 6.1760454177856445\n"
     ]
    },
    {
     "name": "stderr",
     "output_type": "stream",
     "text": [
      "Traceback (most recent call last):\n",
      "  File \"C:\\Users\\Akshay\\Anaconda3\\lib\\site-packages\\numba\\ir.py\", line 162, in get\n",
      "    return self._con[name]\n",
      "KeyError: '$6.2'\n",
      "\n",
      "During handling of the above exception, another exception occurred:\n",
      "\n",
      "Traceback (most recent call last):\n",
      "  File \"C:\\Users\\Akshay\\Anaconda3\\lib\\site-packages\\numba\\ir.py\", line 802, in get_exact\n",
      "    return self.localvars.get(name)\n",
      "  File \"C:\\Users\\Akshay\\Anaconda3\\lib\\site-packages\\numba\\ir.py\", line 164, in get\n",
      "    raise NotDefinedError(name)\n",
      "numba.errors.NotDefinedError: \u001b[1mVariable '$6.2' is not defined.\u001b[0m\n",
      "\n",
      "During handling of the above exception, another exception occurred:\n",
      "\n",
      "Traceback (most recent call last):\n",
      "  File \"C:\\Users\\Akshay\\Anaconda3\\lib\\site-packages\\numba\\ir.py\", line 162, in get\n",
      "    return self._con[name]\n",
      "KeyError: '$6.2'\n",
      "\n",
      "During handling of the above exception, another exception occurred:\n",
      "\n",
      "Traceback (most recent call last):\n",
      "  File \"baseline_VectorSpace_Tf_Idf.py\", line 24, in <module>\n",
      "    model.process_query_file(args.query_file_path, args.rel, args.r)\n",
      "  File \"C:\\Users\\Akshay\\Anaconda3\\lib\\site-packages\\numba\\dispatcher.py\", line 356, in _compile_for_args\n",
      "    error_rewrite(e, 'interpreter')\n",
      "  File \"C:\\Users\\Akshay\\Anaconda3\\lib\\site-packages\\numba\\dispatcher.py\", line 315, in error_rewrite\n",
      "    reraise(type(e), e, None)\n",
      "  File \"C:\\Users\\Akshay\\Anaconda3\\lib\\site-packages\\numba\\six.py\", line 658, in reraise\n",
      "    raise value.with_traceback(tb)\n",
      "numba.errors.NotDefinedError: Failed in nopython mode pipeline (step: analyzing bytecode)\n",
      "\u001b[1mVariable '$6.2' is not defined.\u001b[0m\n",
      "Unsupported Python functionality was found in the code Numba was trying to\n",
      "compile. This error could be due to invalid code, does the code work\n",
      "without Numba? (To temporarily disable Numba JIT, set the `NUMBA_DISABLE_JIT`\n",
      "environment variable to non-zero, and then rerun the code).\n",
      "\n",
      "If the code is valid and the unsupported functionality is important to you\n",
      "please file a feature request at: https://github.com/numba/numba/issues/new\n",
      "\n",
      "To see Python/NumPy features supported by the latest release of Numba visit:\n",
      "http://numba.pydata.org/numba-doc/dev/reference/pysupported.html\n",
      "and\n",
      "http://numba.pydata.org/numba-doc/dev/reference/numpysupported.html\n",
      "\n"
     ]
    }
   ],
   "source": [
    "from time import time \n",
    "\n",
    "query_start = time()\n",
    "!python baseline_VectorSpace_Tf_Idf.py index.p termcounts.p clean_queries.tsv -r 100 > TESTresults_baseline_VectorSpace.txt\n",
    "query_end = time()\n",
    "\n",
    "t = query_end-query_start\n",
    "print(\"Time elapsed\",t)"
   ]
  },
  {
   "cell_type": "code",
   "execution_count": 12,
   "metadata": {},
   "outputs": [],
   "source": []
  }
 ],
 "metadata": {
  "kernelspec": {
   "display_name": "Python 3",
   "language": "python",
   "name": "python3"
  },
  "language_info": {
   "codemirror_mode": {
    "name": "ipython",
    "version": 3
   },
   "file_extension": ".py",
   "mimetype": "text/x-python",
   "name": "python",
   "nbconvert_exporter": "python",
   "pygments_lexer": "ipython3",
   "version": "3.7.1"
  }
 },
 "nbformat": 4,
 "nbformat_minor": 2
}
